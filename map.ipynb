{
 "cells": [
  {
   "cell_type": "code",
   "execution_count": 9,
   "id": "1875aad1-d705-487a-bf12-6a7fb123d1d0",
   "metadata": {},
   "outputs": [],
   "source": [
    "import json\n",
    "import numpy as np\n",
    "import pandas as pd\n",
    "import plotly.express as px"
   ]
  },
  {
   "cell_type": "code",
   "execution_count": 10,
   "id": "3a1686b9-9bb6-43be-964d-6743403c1234",
   "metadata": {},
   "outputs": [],
   "source": [
    "import plotly.io as pio\n",
    "pio.renderers.default='browser'"
   ]
  },
  {
   "cell_type": "code",
   "execution_count": 11,
   "id": "c9163a71-9bce-46cb-8eaa-caac426835b7",
   "metadata": {},
   "outputs": [],
   "source": [
    "india_states=json.load(open('states_india.geojson','r'))\n"
   ]
  },
  {
   "cell_type": "code",
   "execution_count": 12,
   "id": "b461b52d-fabb-45b4-983f-00807057a317",
   "metadata": {},
   "outputs": [],
   "source": [
    "state_id_map={}\n",
    "for feature in india_states['features']:\n",
    "    feature['id']= feature['properties']['state_code']\n",
    "    state_id_map[feature['properties']['st_nm']]=feature['id']"
   ]
  },
  {
   "cell_type": "code",
   "execution_count": 13,
   "id": "4ace7f11-b3dd-404f-9483-9dedcbede01e",
   "metadata": {},
   "outputs": [
    {
     "data": {
      "text/plain": [
       "{'cartodb_id': 2, 'state_code': 35, 'st_nm': 'Andaman & Nicobar Island'}"
      ]
     },
     "execution_count": 13,
     "metadata": {},
     "output_type": "execute_result"
    }
   ],
   "source": [
    "india_states['features'][1]['properties']"
   ]
  },
  {
   "cell_type": "code",
   "execution_count": 14,
   "id": "69defdab-210e-43b7-a309-a03081d636a8",
   "metadata": {},
   "outputs": [],
   "source": [
    "df=pd.read_csv('india_census.csv')"
   ]
  },
  {
   "cell_type": "code",
   "execution_count": null,
   "id": "59ba1c9f-530b-47fe-99e3-1c6eea6459f4",
   "metadata": {},
   "outputs": [],
   "source": []
  },
  {
   "cell_type": "code",
   "execution_count": 15,
   "id": "10d2a68e-6839-4682-a261-b3d98f09af6c",
   "metadata": {},
   "outputs": [],
   "source": [
    "df['Density']=df['Density[a]'].apply(lambda x: int(x.split(\"/\")[0].replace(\",\",\"\")))\n",
    "df['id']=df['State or union territory'].apply(lambda x: state_id_map[x])"
   ]
  },
  {
   "cell_type": "code",
   "execution_count": 17,
   "id": "b45d8ffd-66cc-4bc9-b304-cb3255f3f124",
   "metadata": {},
   "outputs": [
    {
     "data": {
      "text/html": [
       "<div>\n",
       "<style scoped>\n",
       "    .dataframe tbody tr th:only-of-type {\n",
       "        vertical-align: middle;\n",
       "    }\n",
       "\n",
       "    .dataframe tbody tr th {\n",
       "        vertical-align: top;\n",
       "    }\n",
       "\n",
       "    .dataframe thead th {\n",
       "        text-align: right;\n",
       "    }\n",
       "</style>\n",
       "<table border=\"1\" class=\"dataframe\">\n",
       "  <thead>\n",
       "    <tr style=\"text-align: right;\">\n",
       "      <th></th>\n",
       "      <th>Rank</th>\n",
       "      <th>State or union territory</th>\n",
       "      <th>Population</th>\n",
       "      <th>Population (%)</th>\n",
       "      <th>Decadal growth(2001–2011)</th>\n",
       "      <th>Rural population</th>\n",
       "      <th>Percent rural</th>\n",
       "      <th>Urban population</th>\n",
       "      <th>Percent urban</th>\n",
       "      <th>Area[16]</th>\n",
       "      <th>Density[a]</th>\n",
       "      <th>Sex ratio</th>\n",
       "      <th>Density</th>\n",
       "      <th>id</th>\n",
       "    </tr>\n",
       "  </thead>\n",
       "  <tbody>\n",
       "    <tr>\n",
       "      <th>0</th>\n",
       "      <td>1.0</td>\n",
       "      <td>Uttar Pradesh</td>\n",
       "      <td>199812341</td>\n",
       "      <td>NaN</td>\n",
       "      <td>20.20%</td>\n",
       "      <td>155317278</td>\n",
       "      <td>NaN</td>\n",
       "      <td>44495063</td>\n",
       "      <td>NaN</td>\n",
       "      <td>240,928 km2 (93,023 sq mi)</td>\n",
       "      <td>828/km2 (2,140/sq mi)</td>\n",
       "      <td>912</td>\n",
       "      <td>828</td>\n",
       "      <td>9</td>\n",
       "    </tr>\n",
       "    <tr>\n",
       "      <th>1</th>\n",
       "      <td>2.0</td>\n",
       "      <td>Maharashtra</td>\n",
       "      <td>112374333</td>\n",
       "      <td>NaN</td>\n",
       "      <td>20.00%</td>\n",
       "      <td>61556074</td>\n",
       "      <td>NaN</td>\n",
       "      <td>50818259</td>\n",
       "      <td>NaN</td>\n",
       "      <td>307,713 km2 (118,809 sq mi)</td>\n",
       "      <td>365/km2 (950/sq mi)</td>\n",
       "      <td>929</td>\n",
       "      <td>365</td>\n",
       "      <td>27</td>\n",
       "    </tr>\n",
       "    <tr>\n",
       "      <th>2</th>\n",
       "      <td>3.0</td>\n",
       "      <td>Bihar</td>\n",
       "      <td>104099452</td>\n",
       "      <td>NaN</td>\n",
       "      <td>25.40%</td>\n",
       "      <td>92341436</td>\n",
       "      <td>NaN</td>\n",
       "      <td>11758016</td>\n",
       "      <td>NaN</td>\n",
       "      <td>94,163 km2 (36,357 sq mi)</td>\n",
       "      <td>1,102/km2 (2,850/sq mi)</td>\n",
       "      <td>918</td>\n",
       "      <td>1102</td>\n",
       "      <td>10</td>\n",
       "    </tr>\n",
       "    <tr>\n",
       "      <th>3</th>\n",
       "      <td>4.0</td>\n",
       "      <td>West Bengal</td>\n",
       "      <td>91276115</td>\n",
       "      <td>NaN</td>\n",
       "      <td>13.80%</td>\n",
       "      <td>62183113</td>\n",
       "      <td>NaN</td>\n",
       "      <td>29093002</td>\n",
       "      <td>NaN</td>\n",
       "      <td>88,752 km2 (34,267 sq mi)</td>\n",
       "      <td>1,029/km2 (2,670/sq mi)</td>\n",
       "      <td>953</td>\n",
       "      <td>1029</td>\n",
       "      <td>19</td>\n",
       "    </tr>\n",
       "    <tr>\n",
       "      <th>4</th>\n",
       "      <td>5.0</td>\n",
       "      <td>Madhya Pradesh</td>\n",
       "      <td>72626809</td>\n",
       "      <td>NaN</td>\n",
       "      <td>16.30%</td>\n",
       "      <td>52557404</td>\n",
       "      <td>NaN</td>\n",
       "      <td>20069405</td>\n",
       "      <td>NaN</td>\n",
       "      <td>308,245 km2 (119,014 sq mi)</td>\n",
       "      <td>236/km2 (610/sq mi)</td>\n",
       "      <td>931</td>\n",
       "      <td>236</td>\n",
       "      <td>23</td>\n",
       "    </tr>\n",
       "  </tbody>\n",
       "</table>\n",
       "</div>"
      ],
      "text/plain": [
       "   Rank State or union territory  Population  Population (%)   \n",
       "0   1.0            Uttar Pradesh   199812341             NaN  \\\n",
       "1   2.0              Maharashtra   112374333             NaN   \n",
       "2   3.0                    Bihar   104099452             NaN   \n",
       "3   4.0              West Bengal    91276115             NaN   \n",
       "4   5.0           Madhya Pradesh    72626809             NaN   \n",
       "\n",
       "  Decadal growth(2001–2011)  Rural population  Percent rural   \n",
       "0                    20.20%         155317278            NaN  \\\n",
       "1                    20.00%          61556074            NaN   \n",
       "2                    25.40%          92341436            NaN   \n",
       "3                    13.80%          62183113            NaN   \n",
       "4                    16.30%          52557404            NaN   \n",
       "\n",
       "   Urban population  Percent urban                     Area[16]   \n",
       "0          44495063            NaN   240,928 km2 (93,023 sq mi)  \\\n",
       "1          50818259            NaN  307,713 km2 (118,809 sq mi)   \n",
       "2          11758016            NaN    94,163 km2 (36,357 sq mi)   \n",
       "3          29093002            NaN    88,752 km2 (34,267 sq mi)   \n",
       "4          20069405            NaN  308,245 km2 (119,014 sq mi)   \n",
       "\n",
       "                Density[a]  Sex ratio  Density  id  \n",
       "0    828/km2 (2,140/sq mi)        912      828   9  \n",
       "1      365/km2 (950/sq mi)        929      365  27  \n",
       "2  1,102/km2 (2,850/sq mi)        918     1102  10  \n",
       "3  1,029/km2 (2,670/sq mi)        953     1029  19  \n",
       "4      236/km2 (610/sq mi)        931      236  23  "
      ]
     },
     "execution_count": 17,
     "metadata": {},
     "output_type": "execute_result"
    }
   ],
   "source": [
    "df.head()"
   ]
  },
  {
   "cell_type": "code",
   "execution_count": 21,
   "id": "93ec424b-f848-4efd-9fc2-3765ae33fc0f",
   "metadata": {},
   "outputs": [],
   "source": [
    "df['DensityScale']=np.log10(df['Density'])"
   ]
  },
  {
   "cell_type": "code",
   "execution_count": 41,
   "id": "f9349092-ca05-4702-9290-03185485969a",
   "metadata": {},
   "outputs": [],
   "source": [
    "fig=px.choropleth(df,\n",
    "                  locations='id',\n",
    "                  geojson=india_states, \n",
    "                  color='DensityScale',\n",
    "                 hover_name='State or union territory',\n",
    "                 hover_data=['Density']\n",
    "                 )\n",
    "fig.update_geos(fitbounds='locations',visible=False)\n",
    "fig.show()"
   ]
  },
  {
   "cell_type": "code",
   "execution_count": 44,
   "id": "0dc3bedf-eb92-4e8d-8ff0-a7e29c19e87f",
   "metadata": {
    "scrolled": true
   },
   "outputs": [],
   "source": [
    "fig = px.choropleth_mapbox(df,\n",
    "                             locations='id',\n",
    "                             geojson=india_states, \n",
    "                             color='DensityScale',\n",
    "                             hover_name='State or union territory',\n",
    "                             hover_data=['Density'],\n",
    "                             mapbox_style='carto-positron',\n",
    "                             center={'lat':24,'lon':78},\n",
    "                             zoom=3 ,opacity=0.5)\n",
    "fig.show()"
   ]
  },
  {
   "cell_type": "code",
   "execution_count": null,
   "id": "3876f999-27a4-4c5e-a123-79a141af7267",
   "metadata": {},
   "outputs": [],
   "source": []
  },
  {
   "cell_type": "code",
   "execution_count": null,
   "id": "ccbf8ebb-104c-45dd-bb4d-465df6aaeb39",
   "metadata": {},
   "outputs": [],
   "source": []
  },
  {
   "cell_type": "code",
   "execution_count": null,
   "id": "2a161bd1",
   "metadata": {},
   "outputs": [],
   "source": []
  },
  {
   "cell_type": "code",
   "execution_count": null,
   "id": "8ef5a305",
   "metadata": {},
   "outputs": [],
   "source": []
  },
  {
   "cell_type": "code",
   "execution_count": null,
   "id": "79421477",
   "metadata": {},
   "outputs": [],
   "source": []
  },
  {
   "cell_type": "code",
   "execution_count": null,
   "id": "87fa2427",
   "metadata": {},
   "outputs": [],
   "source": []
  },
  {
   "cell_type": "code",
   "execution_count": null,
   "id": "1856617b",
   "metadata": {},
   "outputs": [],
   "source": []
  }
 ],
 "metadata": {
  "kernelspec": {
   "display_name": "Python 3 (ipykernel)",
   "language": "python",
   "name": "python3"
  },
  "language_info": {
   "codemirror_mode": {
    "name": "ipython",
    "version": 3
   },
   "file_extension": ".py",
   "mimetype": "text/x-python",
   "name": "python",
   "nbconvert_exporter": "python",
   "pygments_lexer": "ipython3",
   "version": "3.11.3"
  }
 },
 "nbformat": 4,
 "nbformat_minor": 5
}
